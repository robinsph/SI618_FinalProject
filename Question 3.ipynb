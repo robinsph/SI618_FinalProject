{
 "cells": [
  {
   "cell_type": "code",
   "execution_count": 1,
   "metadata": {
    "collapsed": true
   },
   "outputs": [],
   "source": [
    "import numpy as np\n",
    "import pandas as pd\n",
    "import seaborn as sns\n",
    "import matplotlib.pyplot as plt\n",
    "from scipy import stats\n",
    "%matplotlib inline"
   ]
  },
  {
   "cell_type": "code",
   "execution_count": 2,
   "metadata": {
    "collapsed": true
   },
   "outputs": [],
   "source": [
    "conference =  pd.read_csv('conference.csv')\n",
    "game_statistics = pd.read_csv('game-statistics.csv')\n",
    "drive = pd.read_csv('drive.csv')\n",
    "game = pd.read_csv('game.csv')\n",
    "kickoff_return = pd.read_csv('kickoff-return.csv')\n",
    "kickoff = pd.read_csv('kickoff.csv')\n",
    "ppass = pd.read_csv('pass.csv')\n",
    "play = pd.read_csv('play.csv')\n",
    "player_game_statistics = pd.read_csv('player-game-statistics.csv')\n",
    "player = pd.read_csv('player.csv')\n",
    "punt_return = pd.read_csv('punt-return.csv')\n",
    "punt = pd.read_csv('punt.csv')\n",
    "reception = pd.read_csv('reception.csv')\n",
    "rush = pd.read_csv('rush.csv')\n",
    "stadium = pd.read_csv('stadium.csv')\n",
    "team_game_statistics = pd.read_csv('team-game-statistics.csv')\n",
    "team = pd.read_csv('team.csv')"
   ]
  },
  {
   "cell_type": "code",
   "execution_count": 3,
   "metadata": {
    "collapsed": true
   },
   "outputs": [],
   "source": [
    "merged_team_conference = pd.merge(team, team_game_statistics, on= 'Team Code')"
   ]
  },
  {
   "cell_type": "markdown",
   "metadata": {},
   "source": [
    "Q 2: How does the Big Ten compare to other conferences in terms of defensive statistics, such as forced fumbles, sacks, limiting offensive time of possession, etc. The Big Ten is generally known as a strong defense conference, so this would be interesting to see the actual statistics. "
   ]
  },
  {
   "cell_type": "code",
   "execution_count": 4,
   "metadata": {},
   "outputs": [
    {
     "data": {
      "text/html": [
       "<div>\n",
       "<style>\n",
       "    .dataframe thead tr:only-child th {\n",
       "        text-align: right;\n",
       "    }\n",
       "\n",
       "    .dataframe thead th {\n",
       "        text-align: left;\n",
       "    }\n",
       "\n",
       "    .dataframe tbody tr th {\n",
       "        vertical-align: top;\n",
       "    }\n",
       "</style>\n",
       "<table border=\"1\" class=\"dataframe\">\n",
       "  <thead>\n",
       "    <tr style=\"text-align: right;\">\n",
       "      <th></th>\n",
       "      <th>Team Code</th>\n",
       "      <th>Game Code</th>\n",
       "      <th>Rush Att</th>\n",
       "      <th>Rush Yard</th>\n",
       "      <th>Rush TD</th>\n",
       "      <th>Pass Att</th>\n",
       "      <th>Pass Comp</th>\n",
       "      <th>Pass Yard</th>\n",
       "      <th>Pass TD</th>\n",
       "      <th>Pass Int</th>\n",
       "      <th>...</th>\n",
       "      <th>Time Of Possession</th>\n",
       "      <th>Penalty</th>\n",
       "      <th>Penalty Yard</th>\n",
       "      <th>Third Down Att</th>\n",
       "      <th>Third Down Conv</th>\n",
       "      <th>Fourth Down Att</th>\n",
       "      <th>Fourth Down Conv</th>\n",
       "      <th>Red Zone Att</th>\n",
       "      <th>Red Zone TD</th>\n",
       "      <th>Red Zone Field Goal</th>\n",
       "    </tr>\n",
       "  </thead>\n",
       "  <tbody>\n",
       "    <tr>\n",
       "      <th>0</th>\n",
       "      <td>5</td>\n",
       "      <td>5055920050910</td>\n",
       "      <td>21</td>\n",
       "      <td>23</td>\n",
       "      <td>0</td>\n",
       "      <td>46</td>\n",
       "      <td>26</td>\n",
       "      <td>362</td>\n",
       "      <td>3</td>\n",
       "      <td>0</td>\n",
       "      <td>...</td>\n",
       "      <td>1433</td>\n",
       "      <td>5</td>\n",
       "      <td>42</td>\n",
       "      <td>13</td>\n",
       "      <td>2</td>\n",
       "      <td>3</td>\n",
       "      <td>0</td>\n",
       "      <td>2</td>\n",
       "      <td>1</td>\n",
       "      <td>1</td>\n",
       "    </tr>\n",
       "    <tr>\n",
       "      <th>1</th>\n",
       "      <td>5</td>\n",
       "      <td>5041920050917</td>\n",
       "      <td>39</td>\n",
       "      <td>102</td>\n",
       "      <td>0</td>\n",
       "      <td>43</td>\n",
       "      <td>23</td>\n",
       "      <td>319</td>\n",
       "      <td>2</td>\n",
       "      <td>3</td>\n",
       "      <td>...</td>\n",
       "      <td>2154</td>\n",
       "      <td>8</td>\n",
       "      <td>49</td>\n",
       "      <td>14</td>\n",
       "      <td>7</td>\n",
       "      <td>2</td>\n",
       "      <td>0</td>\n",
       "      <td>5</td>\n",
       "      <td>2</td>\n",
       "      <td>0</td>\n",
       "    </tr>\n",
       "    <tr>\n",
       "      <th>2</th>\n",
       "      <td>5</td>\n",
       "      <td>503000520050924</td>\n",
       "      <td>32</td>\n",
       "      <td>119</td>\n",
       "      <td>1</td>\n",
       "      <td>39</td>\n",
       "      <td>20</td>\n",
       "      <td>406</td>\n",
       "      <td>5</td>\n",
       "      <td>0</td>\n",
       "      <td>...</td>\n",
       "      <td>1764</td>\n",
       "      <td>5</td>\n",
       "      <td>36</td>\n",
       "      <td>15</td>\n",
       "      <td>6</td>\n",
       "      <td>0</td>\n",
       "      <td>0</td>\n",
       "      <td>4</td>\n",
       "      <td>3</td>\n",
       "      <td>1</td>\n",
       "    </tr>\n",
       "    <tr>\n",
       "      <th>3</th>\n",
       "      <td>5</td>\n",
       "      <td>129000520051001</td>\n",
       "      <td>24</td>\n",
       "      <td>90</td>\n",
       "      <td>0</td>\n",
       "      <td>57</td>\n",
       "      <td>30</td>\n",
       "      <td>270</td>\n",
       "      <td>2</td>\n",
       "      <td>3</td>\n",
       "      <td>...</td>\n",
       "      <td>1908</td>\n",
       "      <td>5</td>\n",
       "      <td>50</td>\n",
       "      <td>20</td>\n",
       "      <td>7</td>\n",
       "      <td>1</td>\n",
       "      <td>1</td>\n",
       "      <td>2</td>\n",
       "      <td>0</td>\n",
       "      <td>1</td>\n",
       "    </tr>\n",
       "    <tr>\n",
       "      <th>4</th>\n",
       "      <td>5</td>\n",
       "      <td>5008620051008</td>\n",
       "      <td>36</td>\n",
       "      <td>79</td>\n",
       "      <td>1</td>\n",
       "      <td>33</td>\n",
       "      <td>12</td>\n",
       "      <td>145</td>\n",
       "      <td>0</td>\n",
       "      <td>0</td>\n",
       "      <td>...</td>\n",
       "      <td>1657</td>\n",
       "      <td>9</td>\n",
       "      <td>89</td>\n",
       "      <td>18</td>\n",
       "      <td>3</td>\n",
       "      <td>3</td>\n",
       "      <td>1</td>\n",
       "      <td>5</td>\n",
       "      <td>1</td>\n",
       "      <td>2</td>\n",
       "    </tr>\n",
       "  </tbody>\n",
       "</table>\n",
       "<p>5 rows × 68 columns</p>\n",
       "</div>"
      ],
      "text/plain": [
       "   Team Code        Game Code  Rush Att  Rush Yard  Rush TD  Pass Att  \\\n",
       "0          5    5055920050910        21         23        0        46   \n",
       "1          5    5041920050917        39        102        0        43   \n",
       "2          5  503000520050924        32        119        1        39   \n",
       "3          5  129000520051001        24         90        0        57   \n",
       "4          5    5008620051008        36         79        1        33   \n",
       "\n",
       "   Pass Comp  Pass Yard  Pass TD  Pass Int         ...           \\\n",
       "0         26        362        3         0         ...            \n",
       "1         23        319        2         3         ...            \n",
       "2         20        406        5         0         ...            \n",
       "3         30        270        2         3         ...            \n",
       "4         12        145        0         0         ...            \n",
       "\n",
       "   Time Of Possession  Penalty  Penalty Yard  Third Down Att  Third Down Conv  \\\n",
       "0                1433        5            42              13                2   \n",
       "1                2154        8            49              14                7   \n",
       "2                1764        5            36              15                6   \n",
       "3                1908        5            50              20                7   \n",
       "4                1657        9            89              18                3   \n",
       "\n",
       "   Fourth Down Att  Fourth Down Conv  Red Zone Att  Red Zone TD  \\\n",
       "0                3                 0             2            1   \n",
       "1                2                 0             5            2   \n",
       "2                0                 0             4            3   \n",
       "3                1                 1             2            0   \n",
       "4                3                 1             5            1   \n",
       "\n",
       "   Red Zone Field Goal  \n",
       "0                    1  \n",
       "1                    0  \n",
       "2                    1  \n",
       "3                    1  \n",
       "4                    2  \n",
       "\n",
       "[5 rows x 68 columns]"
      ]
     },
     "execution_count": 4,
     "metadata": {},
     "output_type": "execute_result"
    }
   ],
   "source": [
    "team_game_statistics.head()"
   ]
  },
  {
   "cell_type": "code",
   "execution_count": 21,
   "metadata": {},
   "outputs": [
    {
     "name": "stderr",
     "output_type": "stream",
     "text": [
      "C:\\Users\\Phil\\Anaconda3\\envs\\si618\\lib\\site-packages\\ipykernel_launcher.py:7: SettingWithCopyWarning: \n",
      "A value is trying to be set on a copy of a slice from a DataFrame.\n",
      "Try using .loc[row_indexer,col_indexer] = value instead\n",
      "\n",
      "See the caveats in the documentation: http://pandas.pydata.org/pandas-docs/stable/indexing.html#indexing-view-versus-copy\n",
      "  import sys\n",
      "C:\\Users\\Phil\\Anaconda3\\envs\\si618\\lib\\site-packages\\ipykernel_launcher.py:9: SettingWithCopyWarning: \n",
      "A value is trying to be set on a copy of a slice from a DataFrame.\n",
      "Try using .loc[row_indexer,col_indexer] = value instead\n",
      "\n",
      "See the caveats in the documentation: http://pandas.pydata.org/pandas-docs/stable/indexing.html#indexing-view-versus-copy\n",
      "  if __name__ == '__main__':\n"
     ]
    }
   ],
   "source": [
    "#defense_stats = merged_team_conference.groupby('Conference Code').agg(['mean','std'])\n",
    "defense_categories = ['Conference Code','Tackle For Loss', 'Tackle For Loss Yard', 'Sack', \n",
    "                      'Sack Yard', 'QB Hurry', 'Fumble Forced', 'Pass Broken Up', 'Kick/Punt Blocked']\n",
    "\n",
    "defense_stats = merged_team_conference[defense_categories]\n",
    "big_ten_defense_stats = defense_stats[defense_stats['Conference Code'] == 827]\n",
    "big_ten_defense_stats['Big Ten'] = 'Yes'\n",
    "other_defense_stats = defense_stats[defense_stats['Conference Code'] != 827]\n",
    "other_defense_stats['Big Ten'] = 'No'\n",
    "joined_conferences = pd.concat([big_ten_defense_stats,other_defense_stats])"
   ]
  },
  {
   "cell_type": "code",
   "execution_count": 22,
   "metadata": {},
   "outputs": [
    {
     "name": "stdout",
     "output_type": "stream",
     "text": [
      "Tackle For Loss\n",
      "[Ttest_indResult(statistic=-1.3620259613584016, pvalue=0.17516662670625152)]\n",
      "Tackle For Loss Yard\n",
      "[Ttest_indResult(statistic=-1.0407183169412415, pvalue=0.29964354674122079)]\n",
      "Sack\n",
      "[Ttest_indResult(statistic=-0.63772018235485117, pvalue=0.5246275011761744)]\n",
      "Sack Yard\n",
      "[Ttest_indResult(statistic=-0.92396790181748134, pvalue=0.3569627594661372)]\n",
      "QB Hurry\n",
      "[Ttest_indResult(statistic=-0.61394108869910191, pvalue=0.5401337727234321)]\n",
      "Fumble Forced\n",
      "[Ttest_indResult(statistic=-1.0269208110773611, pvalue=0.30606443009114265)]\n",
      "Pass Broken Up\n",
      "[Ttest_indResult(statistic=0.95270423206082122, pvalue=0.3421452695357895)]\n",
      "Kick/Punt Blocked\n",
      "[Ttest_indResult(statistic=-1.1707398325916085, pvalue=0.24343549310091453)]\n"
     ]
    }
   ],
   "source": [
    "for col in big_ten_defense_stats.columns[1:-1]:\n",
    "    print(col)\n",
    "    print([stats.ttest_ind(big_ten_defense_stats[col], other_defense_stats[col], equal_var=False)])"
   ]
  },
  {
   "cell_type": "code",
   "execution_count": 15,
   "metadata": {},
   "outputs": [
    {
     "data": {
      "text/plain": [
       "[[Ttest_indResult(statistic=-1.3620259613584016, pvalue=0.17516662670625152)],\n",
       " [Ttest_indResult(statistic=-1.0407183169412415, pvalue=0.29964354674122079)],\n",
       " [Ttest_indResult(statistic=-0.63772018235485117, pvalue=0.5246275011761744)],\n",
       " [Ttest_indResult(statistic=-0.92396790181748134, pvalue=0.3569627594661372)],\n",
       " [Ttest_indResult(statistic=-0.61394108869910191, pvalue=0.5401337727234321)],\n",
       " [Ttest_indResult(statistic=-1.0269208110773611, pvalue=0.30606443009114265)],\n",
       " [Ttest_indResult(statistic=0.95270423206082122, pvalue=0.3421452695357895)],\n",
       " [Ttest_indResult(statistic=-1.1707398325916085, pvalue=0.24343549310091453)]]"
      ]
     },
     "execution_count": 15,
     "metadata": {},
     "output_type": "execute_result"
    }
   ],
   "source": [
    "[[stats.ttest_ind(big_ten_defense_stats[col], other_defense_stats[col], equal_var=False)] for col in big_ten_defense_stats.columns[1:-1]]"
   ]
  },
  {
   "cell_type": "code",
   "execution_count": 23,
   "metadata": {},
   "outputs": [
    {
     "data": {
      "image/png": "[encoded data removed]",
      "text/plain": [
       "<matplotlib.figure.Figure at 0x18ad37720f0>"
      ]
     },
     "metadata": {},
     "output_type": "display_data"
    }
   ],
   "source": [
    "sns.set_style(\"whitegrid\")\n",
    "ax = sns.boxplot(y='Sack', x = 'Big Ten', data =joined_conferences )\n",
    "plt.show()\n"
   ]
  },
  {
   "cell_type": "code",
   "execution_count": 24,
   "metadata": {},
   "outputs": [
    {
     "data": {
      "image/png": "[encoded data removed]",
      "text/plain": [
       "<matplotlib.figure.Figure at 0x18ad376fc50>"
      ]
     },
     "metadata": {},
     "output_type": "display_data"
    }
   ],
   "source": [
    "ax = sns.boxplot(y='Tackle For Loss', x = 'Big Ten', data =joined_conferences )\n",
    "plt.show()"
   ]
  },
  {
   "cell_type": "code",
   "execution_count": 25,
   "metadata": {},
   "outputs": [
    {
     "name": "stderr",
     "output_type": "stream",
     "text": [
      "C:\\Users\\Phil\\Anaconda3\\envs\\si618\\lib\\site-packages\\ipykernel_launcher.py:7: SettingWithCopyWarning: \n",
      "A value is trying to be set on a copy of a slice from a DataFrame.\n",
      "Try using .loc[row_indexer,col_indexer] = value instead\n",
      "\n",
      "See the caveats in the documentation: http://pandas.pydata.org/pandas-docs/stable/indexing.html#indexing-view-versus-copy\n",
      "  import sys\n",
      "C:\\Users\\Phil\\Anaconda3\\envs\\si618\\lib\\site-packages\\ipykernel_launcher.py:9: SettingWithCopyWarning: \n",
      "A value is trying to be set on a copy of a slice from a DataFrame.\n",
      "Try using .loc[row_indexer,col_indexer] = value instead\n",
      "\n",
      "See the caveats in the documentation: http://pandas.pydata.org/pandas-docs/stable/indexing.html#indexing-view-versus-copy\n",
      "  if __name__ == '__main__':\n"
     ]
    }
   ],
   "source": [
    "defense_categories = ['Conference Code','Sack Yard','Int Ret Yard','Punt','Tackle For Loss Yard','Pass Broken Up','Fum Ret Yard','QB Hurry','Int Ret',\n",
    "           'Fum Ret','Safety','Def 2XP Made','Kick/Punt Blocked','Fumble Forced','Pass Int','Sack','Tackle For Loss',\n",
    "           'Tackle Assist','Tackle Solo','Fum Ret TD','Int Ret TD','Def 2XP Att']\n",
    "\n",
    "defense_stats = merged_team_conference[defense_categories]\n",
    "big_ten_defense_stats = defense_stats[defense_stats['Conference Code'] == 827]\n",
    "big_ten_defense_stats['Big Ten'] = 'Yes'\n",
    "other_defense_stats = defense_stats[defense_stats['Conference Code'] != 827]\n",
    "other_defense_stats['Big Ten'] = 'No'\n",
    "joined_conferences = pd.concat([big_ten_defense_stats,other_defense_stats])"
   ]
  },
  {
   "cell_type": "code",
   "execution_count": 26,
   "metadata": {},
   "outputs": [
    {
     "name": "stdout",
     "output_type": "stream",
     "text": [
      "Sack Yard\n",
      "[Ttest_indResult(statistic=-0.92396790181748134, pvalue=0.3569627594661372)]\n",
      "Int Ret Yard\n",
      "[Ttest_indResult(statistic=-0.2195038553844165, pvalue=0.82654348714730341)]\n",
      "Punt\n",
      "[Ttest_indResult(statistic=-2.3184209353644007, pvalue=0.021730677189279526)]\n",
      "Tackle For Loss Yard\n",
      "[Ttest_indResult(statistic=-1.0407183169412415, pvalue=0.29964354674122079)]\n",
      "Pass Broken Up\n",
      "[Ttest_indResult(statistic=0.95270423206082122, pvalue=0.3421452695357895)]\n",
      "Fum Ret Yard\n",
      "[Ttest_indResult(statistic=1.1335111818617549, pvalue=0.25896839081493189)]\n",
      "QB Hurry\n",
      "[Ttest_indResult(statistic=-0.61394108869910191, pvalue=0.5401337727234321)]\n",
      "Int Ret\n",
      "[Ttest_indResult(statistic=-1.3539572436380407, pvalue=0.17760931139023811)]\n",
      "Fum Ret\n",
      "[Ttest_indResult(statistic=-1.4038986707224725, pvalue=0.1621503846593238)]\n",
      "Safety\n",
      "[Ttest_indResult(statistic=-0.60118423853695746, pvalue=0.54853093534212538)]\n",
      "Def 2XP Made\n",
      "[Ttest_indResult(statistic=0.91381654103571519, pvalue=0.36241997060490849)]\n",
      "Kick/Punt Blocked\n",
      "[Ttest_indResult(statistic=-1.1707398325916085, pvalue=0.24343549310091453)]\n",
      "Fumble Forced\n",
      "[Ttest_indResult(statistic=-1.0269208110773611, pvalue=0.30606443009114265)]\n",
      "Pass Int\n",
      "[Ttest_indResult(statistic=-1.9569739554017165, pvalue=0.052041538520976205)]\n",
      "Sack\n",
      "[Ttest_indResult(statistic=-0.63772018235485117, pvalue=0.5246275011761744)]\n",
      "Tackle For Loss\n",
      "[Ttest_indResult(statistic=-1.3620259613584016, pvalue=0.17516662670625152)]\n",
      "Tackle Assist\n",
      "[Ttest_indResult(statistic=-1.1836823846268474, pvalue=0.23823851752714581)]\n",
      "Tackle Solo\n",
      "[Ttest_indResult(statistic=4.1724280685406212, pvalue=4.8777531259899093e-05)]\n",
      "Fum Ret TD\n",
      "[Ttest_indResult(statistic=0.51787221819319584, pvalue=0.60530260133428304)]\n",
      "Int Ret TD\n",
      "[Ttest_indResult(statistic=-0.038978171138875771, pvalue=0.96895918569849304)]\n",
      "Def 2XP Att\n",
      "[Ttest_indResult(statistic=-0.18189830664382278, pvalue=0.85589597906702664)]\n"
     ]
    }
   ],
   "source": [
    "for col in big_ten_defense_stats.columns[1:-1]:\n",
    "    print(col)\n",
    "    print([stats.ttest_ind(big_ten_defense_stats[col], other_defense_stats[col], equal_var=False)])"
   ]
  },
  {
   "cell_type": "code",
   "execution_count": 27,
   "metadata": {},
   "outputs": [
    {
     "data": {
      "image/png": "[encoded data removed]",
      "text/plain": [
       "<matplotlib.figure.Figure at 0x18ad3f4d080>"
      ]
     },
     "metadata": {},
     "output_type": "display_data"
    }
   ],
   "source": [
    "ax = sns.boxplot(y='Pass Int', x = 'Big Ten', data =joined_conferences )\n",
    "plt.show()"
   ]
  },
  {
   "cell_type": "code",
   "execution_count": null,
   "metadata": {
    "collapsed": true
   },
   "outputs": [],
   "source": []
  }
 ],
 "metadata": {
  "kernelspec": {
   "display_name": "Python 3",
   "language": "python",
   "name": "python3"
  },
  "language_info": {
   "codemirror_mode": {
    "name": "ipython",
    "version": 3
   },
   "file_extension": ".py",
   "mimetype": "text/x-python",
   "name": "python",
   "nbconvert_exporter": "python",
   "pygments_lexer": "ipython3",
   "version": "3.6.3"
  }
 },
 "nbformat": 4,
 "nbformat_minor": 2
}
