{
 "cells": [
  {
   "cell_type": "code",
   "execution_count": 1,
   "metadata": {
    "collapsed": true
   },
   "outputs": [],
   "source": [
    "import pandas as pd\n",
    "import numpy as np\n",
    "from pyspark.ml.feature import IndexToString, StringIndexer, VectorIndexer, VectorAssembler\n",
    "from pyspark.ml import Pipeline\n",
    "from pyspark.ml.classification import NaiveBayes\n",
    "from pyspark.ml.classification import RandomForestClassifier\n",
    "from pyspark.ml.evaluation import MulticlassClassificationEvaluator\n",
    "import seaborn as sns\n",
    "import matplotlib.pyplot as plt"
   ]
  },
  {
   "cell_type": "code",
   "execution_count": 2,
   "metadata": {
    "collapsed": true
   },
   "outputs": [],
   "source": [
    "conference =  pd.read_csv('conference.csv')\n",
    "game_statistics = pd.read_csv('game-statistics.csv')\n",
    "drive = pd.read_csv('drive.csv')\n",
    "game = pd.read_csv('game.csv')\n",
    "kickoff_return = pd.read_csv('kickoff-return.csv')\n",
    "kickoff = pd.read_csv('kickoff.csv')\n",
    "ppass = pd.read_csv('pass.csv')\n",
    "play = pd.read_csv('play.csv')\n",
    "player_game_statistics = pd.read_csv('player-game-statistics.csv')\n",
    "player = pd.read_csv('player.csv')\n",
    "punt_return = pd.read_csv('punt-return.csv')\n",
    "punt = pd.read_csv('punt.csv')\n",
    "reception = pd.read_csv('reception.csv')\n",
    "rush = pd.read_csv('rush.csv')\n",
    "stadium = pd.read_csv('stadium.csv')\n",
    "team_game_statistics = pd.read_csv('team-game-statistics.csv')\n",
    "team = pd.read_csv('team.csv')"
   ]
  },
  {
   "cell_type": "code",
   "execution_count": 3,
   "metadata": {},
   "outputs": [
    {
     "data": {
      "text/html": [
       "<div>\n",
       "<style>\n",
       "    .dataframe thead tr:only-child th {\n",
       "        text-align: right;\n",
       "    }\n",
       "\n",
       "    .dataframe thead th {\n",
       "        text-align: left;\n",
       "    }\n",
       "\n",
       "    .dataframe tbody tr th {\n",
       "        vertical-align: top;\n",
       "    }\n",
       "</style>\n",
       "<table border=\"1\" class=\"dataframe\">\n",
       "  <thead>\n",
       "    <tr style=\"text-align: right;\">\n",
       "      <th></th>\n",
       "      <th>Team Code</th>\n",
       "      <th>Game Code</th>\n",
       "      <th>Rush Att</th>\n",
       "      <th>Rush Yard</th>\n",
       "      <th>Rush TD</th>\n",
       "      <th>Pass Att</th>\n",
       "      <th>Pass Comp</th>\n",
       "      <th>Pass Yard</th>\n",
       "      <th>Pass TD</th>\n",
       "      <th>Pass Int</th>\n",
       "      <th>...</th>\n",
       "      <th>Time Of Possession</th>\n",
       "      <th>Penalty</th>\n",
       "      <th>Penalty Yard</th>\n",
       "      <th>Third Down Att</th>\n",
       "      <th>Third Down Conv</th>\n",
       "      <th>Fourth Down Att</th>\n",
       "      <th>Fourth Down Conv</th>\n",
       "      <th>Red Zone Att</th>\n",
       "      <th>Red Zone TD</th>\n",
       "      <th>Red Zone Field Goal</th>\n",
       "    </tr>\n",
       "  </thead>\n",
       "  <tbody>\n",
       "    <tr>\n",
       "      <th>36</th>\n",
       "      <td>28</td>\n",
       "      <td>690002820050901</td>\n",
       "      <td>44</td>\n",
       "      <td>300</td>\n",
       "      <td>4</td>\n",
       "      <td>31</td>\n",
       "      <td>19</td>\n",
       "      <td>259</td>\n",
       "      <td>5</td>\n",
       "      <td>2</td>\n",
       "      <td>...</td>\n",
       "      <td>1798</td>\n",
       "      <td>11</td>\n",
       "      <td>101</td>\n",
       "      <td>11</td>\n",
       "      <td>7</td>\n",
       "      <td>1</td>\n",
       "      <td>1</td>\n",
       "      <td>8</td>\n",
       "      <td>7</td>\n",
       "      <td>0</td>\n",
       "    </tr>\n",
       "    <tr>\n",
       "      <th>1080</th>\n",
       "      <td>690</td>\n",
       "      <td>690002820050901</td>\n",
       "      <td>35</td>\n",
       "      <td>62</td>\n",
       "      <td>1</td>\n",
       "      <td>37</td>\n",
       "      <td>18</td>\n",
       "      <td>203</td>\n",
       "      <td>1</td>\n",
       "      <td>2</td>\n",
       "      <td>...</td>\n",
       "      <td>1802</td>\n",
       "      <td>0</td>\n",
       "      <td>0</td>\n",
       "      <td>16</td>\n",
       "      <td>7</td>\n",
       "      <td>1</td>\n",
       "      <td>0</td>\n",
       "      <td>3</td>\n",
       "      <td>2</td>\n",
       "      <td>0</td>\n",
       "    </tr>\n",
       "  </tbody>\n",
       "</table>\n",
       "<p>2 rows × 68 columns</p>\n",
       "</div>"
      ],
      "text/plain": [
       "      Team Code        Game Code  Rush Att  Rush Yard  Rush TD  Pass Att  \\\n",
       "36           28  690002820050901        44        300        4        31   \n",
       "1080        690  690002820050901        35         62        1        37   \n",
       "\n",
       "      Pass Comp  Pass Yard  Pass TD  Pass Int         ...           \\\n",
       "36           19        259        5         2         ...            \n",
       "1080         18        203        1         2         ...            \n",
       "\n",
       "      Time Of Possession  Penalty  Penalty Yard  Third Down Att  \\\n",
       "36                  1798       11           101              11   \n",
       "1080                1802        0             0              16   \n",
       "\n",
       "      Third Down Conv  Fourth Down Att  Fourth Down Conv  Red Zone Att  \\\n",
       "36                  7                1                 1             8   \n",
       "1080                7                1                 0             3   \n",
       "\n",
       "      Red Zone TD  Red Zone Field Goal  \n",
       "36              7                    0  \n",
       "1080            2                    0  \n",
       "\n",
       "[2 rows x 68 columns]"
      ]
     },
     "execution_count": 3,
     "metadata": {},
     "output_type": "execute_result"
    }
   ],
   "source": [
    "team_game_statistics[team_game_statistics['Game Code'] == 690002820050901]"
   ]
  },
  {
   "cell_type": "code",
   "execution_count": 4,
   "metadata": {
    "collapsed": true
   },
   "outputs": [],
   "source": [
    "games = play['Game Code'].unique().tolist()"
   ]
  },
  {
   "cell_type": "code",
   "execution_count": 5,
   "metadata": {
    "collapsed": true
   },
   "outputs": [],
   "source": [
    "'''The team game statistics, as comprehensive as it is, seems to lack one important feature: if the team won or lost. Therefore\n",
    "I needed to come up with a way to find the label of a win or a loss. In order to do this, I came up with a system where\n",
    "I go through each of the games, and find the last row, which is the last play of the game. I can then take the data from this\n",
    "data frame and combine it with the team game statistics data frame, matching on the Game Code. \n",
    "'''\n",
    "df = pd.DataFrame(columns = play.columns)\n",
    "for game in games:\n",
    "    df = df.append(play[play['Game Code'] == game][-1:])"
   ]
  },
  {
   "cell_type": "code",
   "execution_count": 6,
   "metadata": {},
   "outputs": [
    {
     "data": {
      "text/html": [
       "<div>\n",
       "<style>\n",
       "    .dataframe thead tr:only-child th {\n",
       "        text-align: right;\n",
       "    }\n",
       "\n",
       "    .dataframe thead th {\n",
       "        text-align: left;\n",
       "    }\n",
       "\n",
       "    .dataframe tbody tr th {\n",
       "        vertical-align: top;\n",
       "    }\n",
       "</style>\n",
       "<table border=\"1\" class=\"dataframe\">\n",
       "  <thead>\n",
       "    <tr style=\"text-align: right;\">\n",
       "      <th></th>\n",
       "      <th>Game Code</th>\n",
       "      <th>Play Number</th>\n",
       "      <th>Period Number</th>\n",
       "      <th>Clock</th>\n",
       "      <th>Offense Team Code</th>\n",
       "      <th>Defense Team Code</th>\n",
       "      <th>Offense Points</th>\n",
       "      <th>Defense Points</th>\n",
       "      <th>Down</th>\n",
       "      <th>Distance</th>\n",
       "      <th>Spot</th>\n",
       "      <th>Play Type</th>\n",
       "      <th>Drive Number</th>\n",
       "      <th>Drive Play</th>\n",
       "    </tr>\n",
       "  </thead>\n",
       "  <tbody>\n",
       "    <tr>\n",
       "      <th>195</th>\n",
       "      <td>690002820050901</td>\n",
       "      <td>196</td>\n",
       "      <td>4</td>\n",
       "      <td>36.0</td>\n",
       "      <td>690</td>\n",
       "      <td>28</td>\n",
       "      <td>16</td>\n",
       "      <td>63</td>\n",
       "      <td>1.0</td>\n",
       "      <td>10.0</td>\n",
       "      <td>76</td>\n",
       "      <td>RUSH</td>\n",
       "      <td>31.0</td>\n",
       "      <td>1.0</td>\n",
       "    </tr>\n",
       "    <tr>\n",
       "      <th>389</th>\n",
       "      <td>204014020050901</td>\n",
       "      <td>194</td>\n",
       "      <td>4</td>\n",
       "      <td>18.0</td>\n",
       "      <td>140</td>\n",
       "      <td>204</td>\n",
       "      <td>28</td>\n",
       "      <td>26</td>\n",
       "      <td>1.0</td>\n",
       "      <td>10.0</td>\n",
       "      <td>60</td>\n",
       "      <td>RUSH</td>\n",
       "      <td>24.0</td>\n",
       "      <td>1.0</td>\n",
       "    </tr>\n",
       "    <tr>\n",
       "      <th>554</th>\n",
       "      <td>86016420050901</td>\n",
       "      <td>165</td>\n",
       "      <td>4</td>\n",
       "      <td>NaN</td>\n",
       "      <td>164</td>\n",
       "      <td>86</td>\n",
       "      <td>38</td>\n",
       "      <td>0</td>\n",
       "      <td>3.0</td>\n",
       "      <td>6.0</td>\n",
       "      <td>14</td>\n",
       "      <td>RUSH</td>\n",
       "      <td>25.0</td>\n",
       "      <td>1.0</td>\n",
       "    </tr>\n",
       "    <tr>\n",
       "      <th>765</th>\n",
       "      <td>529028820050901</td>\n",
       "      <td>211</td>\n",
       "      <td>4</td>\n",
       "      <td>3.0</td>\n",
       "      <td>288</td>\n",
       "      <td>529</td>\n",
       "      <td>24</td>\n",
       "      <td>38</td>\n",
       "      <td>NaN</td>\n",
       "      <td>NaN</td>\n",
       "      <td>65</td>\n",
       "      <td>KICKOFF</td>\n",
       "      <td>NaN</td>\n",
       "      <td>NaN</td>\n",
       "    </tr>\n",
       "    <tr>\n",
       "      <th>948</th>\n",
       "      <td>786038820050901</td>\n",
       "      <td>183</td>\n",
       "      <td>4</td>\n",
       "      <td>NaN</td>\n",
       "      <td>388</td>\n",
       "      <td>786</td>\n",
       "      <td>36</td>\n",
       "      <td>24</td>\n",
       "      <td>2.0</td>\n",
       "      <td>14.0</td>\n",
       "      <td>29</td>\n",
       "      <td>RUSH</td>\n",
       "      <td>27.0</td>\n",
       "      <td>1.0</td>\n",
       "    </tr>\n",
       "  </tbody>\n",
       "</table>\n",
       "</div>"
      ],
      "text/plain": [
       "           Game Code Play Number Period Number  Clock Offense Team Code  \\\n",
       "195  690002820050901         196             4   36.0               690   \n",
       "389  204014020050901         194             4   18.0               140   \n",
       "554   86016420050901         165             4    NaN               164   \n",
       "765  529028820050901         211             4    3.0               288   \n",
       "948  786038820050901         183             4    NaN               388   \n",
       "\n",
       "    Defense Team Code Offense Points Defense Points  Down  Distance Spot  \\\n",
       "195                28             16             63   1.0      10.0   76   \n",
       "389               204             28             26   1.0      10.0   60   \n",
       "554                86             38              0   3.0       6.0   14   \n",
       "765               529             24             38   NaN       NaN   65   \n",
       "948               786             36             24   2.0      14.0   29   \n",
       "\n",
       "    Play Type  Drive Number  Drive Play  \n",
       "195      RUSH          31.0         1.0  \n",
       "389      RUSH          24.0         1.0  \n",
       "554      RUSH          25.0         1.0  \n",
       "765   KICKOFF           NaN         NaN  \n",
       "948      RUSH          27.0         1.0  "
      ]
     },
     "execution_count": 6,
     "metadata": {},
     "output_type": "execute_result"
    }
   ],
   "source": [
    "'''Here is the data frame of the final plays for each game, and therefore the final scores. \n",
    "'''\n",
    "df.head()"
   ]
  },
  {
   "cell_type": "code",
   "execution_count": 7,
   "metadata": {
    "collapsed": true
   },
   "outputs": [],
   "source": [
    "newDF = pd.merge(team_game_statistics, df, on = 'Game Code')"
   ]
  },
  {
   "cell_type": "code",
   "execution_count": 8,
   "metadata": {
    "collapsed": true
   },
   "outputs": [],
   "source": [
    "'''This is the function that lets me find if the team in question, as identified by team_code, won or lost the game. \n",
    "I first match up if the team_code corresponds to the team on offense or the team on defense, and then ask if the offense\n",
    "or defense had more points, returning 1 for a win and 0 for a loss. \n",
    "'''\n",
    "def win_or_loss(team_code,offense_code, defense_code, offense_points, defense_points):\n",
    "    if team_code == offense_code:\n",
    "        if offense_points > defense_points:\n",
    "            return 1\n",
    "        else:\n",
    "            return 0\n",
    "    if team_code == defense_code:\n",
    "        if defense_points > offense_points:\n",
    "            return 1\n",
    "        else:\n",
    "            return 0"
   ]
  },
  {
   "cell_type": "code",
   "execution_count": 9,
   "metadata": {
    "collapsed": true
   },
   "outputs": [],
   "source": [
    "'''This is where I create the new win or loss column, passing in the needed features\n",
    "'''\n",
    "newDF['W/L'] = newDF.apply(lambda row: win_or_loss(row['Team Code'], row['Offense Team Code'],\n",
    "                                                   row['Defense Team Code'], row['Offense Points'], \n",
    "                                                   row['Defense Points']), axis = 1)"
   ]
  },
  {
   "cell_type": "code",
   "execution_count": 10,
   "metadata": {},
   "outputs": [
    {
     "data": {
      "text/html": [
       "<div>\n",
       "<style>\n",
       "    .dataframe thead tr:only-child th {\n",
       "        text-align: right;\n",
       "    }\n",
       "\n",
       "    .dataframe thead th {\n",
       "        text-align: left;\n",
       "    }\n",
       "\n",
       "    .dataframe tbody tr th {\n",
       "        vertical-align: top;\n",
       "    }\n",
       "</style>\n",
       "<table border=\"1\" class=\"dataframe\">\n",
       "  <thead>\n",
       "    <tr style=\"text-align: right;\">\n",
       "      <th></th>\n",
       "      <th>Game Code</th>\n",
       "      <th>Team Code</th>\n",
       "      <th>Offense Team Code</th>\n",
       "      <th>Defense Team Code</th>\n",
       "      <th>Offense Points</th>\n",
       "      <th>Defense Points</th>\n",
       "      <th>W/L</th>\n",
       "    </tr>\n",
       "  </thead>\n",
       "  <tbody>\n",
       "    <tr>\n",
       "      <th>0</th>\n",
       "      <td>5055920050910</td>\n",
       "      <td>5</td>\n",
       "      <td>559</td>\n",
       "      <td>5</td>\n",
       "      <td>49</td>\n",
       "      <td>24</td>\n",
       "      <td>0</td>\n",
       "    </tr>\n",
       "    <tr>\n",
       "      <th>1</th>\n",
       "      <td>5055920050910</td>\n",
       "      <td>559</td>\n",
       "      <td>559</td>\n",
       "      <td>5</td>\n",
       "      <td>49</td>\n",
       "      <td>24</td>\n",
       "      <td>1</td>\n",
       "    </tr>\n",
       "    <tr>\n",
       "      <th>2</th>\n",
       "      <td>5041920050917</td>\n",
       "      <td>5</td>\n",
       "      <td>5</td>\n",
       "      <td>419</td>\n",
       "      <td>17</td>\n",
       "      <td>7</td>\n",
       "      <td>1</td>\n",
       "    </tr>\n",
       "    <tr>\n",
       "      <th>3</th>\n",
       "      <td>5041920050917</td>\n",
       "      <td>419</td>\n",
       "      <td>5</td>\n",
       "      <td>419</td>\n",
       "      <td>17</td>\n",
       "      <td>7</td>\n",
       "      <td>0</td>\n",
       "    </tr>\n",
       "    <tr>\n",
       "      <th>4</th>\n",
       "      <td>503000520050924</td>\n",
       "      <td>5</td>\n",
       "      <td>5</td>\n",
       "      <td>503</td>\n",
       "      <td>42</td>\n",
       "      <td>42</td>\n",
       "      <td>0</td>\n",
       "    </tr>\n",
       "    <tr>\n",
       "      <th>5</th>\n",
       "      <td>503000520050924</td>\n",
       "      <td>503</td>\n",
       "      <td>5</td>\n",
       "      <td>503</td>\n",
       "      <td>42</td>\n",
       "      <td>42</td>\n",
       "      <td>0</td>\n",
       "    </tr>\n",
       "    <tr>\n",
       "      <th>6</th>\n",
       "      <td>129000520051001</td>\n",
       "      <td>5</td>\n",
       "      <td>129</td>\n",
       "      <td>5</td>\n",
       "      <td>31</td>\n",
       "      <td>17</td>\n",
       "      <td>0</td>\n",
       "    </tr>\n",
       "    <tr>\n",
       "      <th>7</th>\n",
       "      <td>129000520051001</td>\n",
       "      <td>129</td>\n",
       "      <td>129</td>\n",
       "      <td>5</td>\n",
       "      <td>31</td>\n",
       "      <td>17</td>\n",
       "      <td>1</td>\n",
       "    </tr>\n",
       "    <tr>\n",
       "      <th>8</th>\n",
       "      <td>5008620051008</td>\n",
       "      <td>5</td>\n",
       "      <td>5</td>\n",
       "      <td>86</td>\n",
       "      <td>13</td>\n",
       "      <td>7</td>\n",
       "      <td>1</td>\n",
       "    </tr>\n",
       "    <tr>\n",
       "      <th>9</th>\n",
       "      <td>5008620051008</td>\n",
       "      <td>86</td>\n",
       "      <td>5</td>\n",
       "      <td>86</td>\n",
       "      <td>13</td>\n",
       "      <td>7</td>\n",
       "      <td>0</td>\n",
       "    </tr>\n",
       "    <tr>\n",
       "      <th>10</th>\n",
       "      <td>5041420051015</td>\n",
       "      <td>5</td>\n",
       "      <td>5</td>\n",
       "      <td>414</td>\n",
       "      <td>23</td>\n",
       "      <td>51</td>\n",
       "      <td>0</td>\n",
       "    </tr>\n",
       "    <tr>\n",
       "      <th>11</th>\n",
       "      <td>5041420051015</td>\n",
       "      <td>414</td>\n",
       "      <td>5</td>\n",
       "      <td>414</td>\n",
       "      <td>23</td>\n",
       "      <td>51</td>\n",
       "      <td>1</td>\n",
       "    </tr>\n",
       "    <tr>\n",
       "      <th>12</th>\n",
       "      <td>725000520051022</td>\n",
       "      <td>5</td>\n",
       "      <td>725</td>\n",
       "      <td>5</td>\n",
       "      <td>20</td>\n",
       "      <td>0</td>\n",
       "      <td>0</td>\n",
       "    </tr>\n",
       "    <tr>\n",
       "      <th>13</th>\n",
       "      <td>725000520051022</td>\n",
       "      <td>725</td>\n",
       "      <td>725</td>\n",
       "      <td>5</td>\n",
       "      <td>20</td>\n",
       "      <td>0</td>\n",
       "      <td>1</td>\n",
       "    </tr>\n",
       "    <tr>\n",
       "      <th>14</th>\n",
       "      <td>5007120051029</td>\n",
       "      <td>5</td>\n",
       "      <td>71</td>\n",
       "      <td>5</td>\n",
       "      <td>14</td>\n",
       "      <td>24</td>\n",
       "      <td>1</td>\n",
       "    </tr>\n",
       "    <tr>\n",
       "      <th>15</th>\n",
       "      <td>5007120051029</td>\n",
       "      <td>71</td>\n",
       "      <td>71</td>\n",
       "      <td>5</td>\n",
       "      <td>14</td>\n",
       "      <td>24</td>\n",
       "      <td>0</td>\n",
       "    </tr>\n",
       "    <tr>\n",
       "      <th>16</th>\n",
       "      <td>5004720051105</td>\n",
       "      <td>5</td>\n",
       "      <td>47</td>\n",
       "      <td>5</td>\n",
       "      <td>23</td>\n",
       "      <td>17</td>\n",
       "      <td>0</td>\n",
       "    </tr>\n",
       "    <tr>\n",
       "      <th>17</th>\n",
       "      <td>5004720051105</td>\n",
       "      <td>47</td>\n",
       "      <td>47</td>\n",
       "      <td>5</td>\n",
       "      <td>23</td>\n",
       "      <td>17</td>\n",
       "      <td>1</td>\n",
       "    </tr>\n",
       "    <tr>\n",
       "      <th>18</th>\n",
       "      <td>519000520051115</td>\n",
       "      <td>5</td>\n",
       "      <td>5</td>\n",
       "      <td>519</td>\n",
       "      <td>27</td>\n",
       "      <td>3</td>\n",
       "      <td>1</td>\n",
       "    </tr>\n",
       "    <tr>\n",
       "      <th>19</th>\n",
       "      <td>519000520051115</td>\n",
       "      <td>519</td>\n",
       "      <td>5</td>\n",
       "      <td>519</td>\n",
       "      <td>27</td>\n",
       "      <td>3</td>\n",
       "      <td>0</td>\n",
       "    </tr>\n",
       "  </tbody>\n",
       "</table>\n",
       "</div>"
      ],
      "text/plain": [
       "          Game Code  Team Code Offense Team Code Defense Team Code  \\\n",
       "0     5055920050910          5               559                 5   \n",
       "1     5055920050910        559               559                 5   \n",
       "2     5041920050917          5                 5               419   \n",
       "3     5041920050917        419                 5               419   \n",
       "4   503000520050924          5                 5               503   \n",
       "5   503000520050924        503                 5               503   \n",
       "6   129000520051001          5               129                 5   \n",
       "7   129000520051001        129               129                 5   \n",
       "8     5008620051008          5                 5                86   \n",
       "9     5008620051008         86                 5                86   \n",
       "10    5041420051015          5                 5               414   \n",
       "11    5041420051015        414                 5               414   \n",
       "12  725000520051022          5               725                 5   \n",
       "13  725000520051022        725               725                 5   \n",
       "14    5007120051029          5                71                 5   \n",
       "15    5007120051029         71                71                 5   \n",
       "16    5004720051105          5                47                 5   \n",
       "17    5004720051105         47                47                 5   \n",
       "18  519000520051115          5                 5               519   \n",
       "19  519000520051115        519                 5               519   \n",
       "\n",
       "   Offense Points Defense Points  W/L  \n",
       "0              49             24    0  \n",
       "1              49             24    1  \n",
       "2              17              7    1  \n",
       "3              17              7    0  \n",
       "4              42             42    0  \n",
       "5              42             42    0  \n",
       "6              31             17    0  \n",
       "7              31             17    1  \n",
       "8              13              7    1  \n",
       "9              13              7    0  \n",
       "10             23             51    0  \n",
       "11             23             51    1  \n",
       "12             20              0    0  \n",
       "13             20              0    1  \n",
       "14             14             24    1  \n",
       "15             14             24    0  \n",
       "16             23             17    0  \n",
       "17             23             17    1  \n",
       "18             27              3    1  \n",
       "19             27              3    0  "
      ]
     },
     "execution_count": 10,
     "metadata": {},
     "output_type": "execute_result"
    }
   ],
   "source": [
    "'''This data frame is just to show that the added W/L column correctly labels the game as a win or a loss\n",
    "'''\n",
    "newDF[['Game Code','Team Code','Offense Team Code','Defense Team Code','Offense Points','Defense Points','W/L']].head(20)"
   ]
  },
  {
   "cell_type": "code",
   "execution_count": 11,
   "metadata": {
    "collapsed": true
   },
   "outputs": [],
   "source": [
    "'''This is the only instance in the whole dataset where the is lacking information. If a game went to overtime, there was no\n",
    "information on what happened in overtime; this dataset only recorded the first 60 minutes of the game. Therefore, I don't have\n",
    "an accurate way of saying if a team won or lost. I decided that the number of games that went to overtime was small enough in\n",
    "reference to the rest of the games, and was therefore not necessary to find supplemental  information to add. Therefore, I just\n",
    "removed games that were in a draw at the end of the first 60 minutes.\n",
    "'''\n",
    "draws = newDF[(newDF['Offense Points'] == newDF['Defense Points'])]['Game Code'].unique().tolist()"
   ]
  },
  {
   "cell_type": "code",
   "execution_count": 12,
   "metadata": {
    "collapsed": true
   },
   "outputs": [],
   "source": [
    "'''Remove the games that ended regulation time in a tie\n",
    "'''\n",
    "filtered = newDF[~newDF['Game Code'].isin(draws)]\n",
    "\n",
    "'''The keep list are the features in which I am going to use to train the model. While I could have instead made a list of \n",
    "features that I DO NOT want to use for model training (like game code, team code, etc), I felt it was more appropriate \n",
    "to outline the features  here for easy visibility. \n",
    "'''\n",
    "keep = ['Rush Att', 'Rush Yard', 'Rush TD',\n",
    "       'Pass Att', 'Pass Comp', 'Pass Yard', 'Pass TD', 'Pass Int',\n",
    "       'Pass Conv', 'Kickoff Ret', 'Kickoff Ret Yard', 'Kickoff Ret TD',\n",
    "       'Punt Ret', 'Punt Ret Yard', 'Punt Ret TD', 'Fum Ret', 'Fum Ret Yard',\n",
    "       'Fum Ret TD', 'Int Ret', 'Int Ret Yard', 'Int Ret TD', 'Misc Ret',\n",
    "       'Misc Ret Yard', 'Misc Ret TD', 'Field Goal Att', 'Field Goal Made',\n",
    "       'Off XP Kick Att', 'Off XP Kick Made', 'Off 2XP Att', 'Off 2XP Made',\n",
    "       'Def 2XP Att', 'Def 2XP Made', 'Safety', 'Points', 'Punt', 'Punt Yard',\n",
    "       'Kickoff', 'Kickoff Yard', 'Kickoff Touchback', 'Kickoff Out-Of-Bounds',\n",
    "       'Kickoff Onside', 'Fumble', 'Fumble Lost', 'Tackle Solo',\n",
    "       'Tackle Assist', 'Tackle For Loss', 'Tackle For Loss Yard', 'Sack',\n",
    "       'Sack Yard', 'QB Hurry', 'Fumble Forced', 'Pass Broken Up',\n",
    "       'Kick/Punt Blocked', '1st Down Rush', '1st Down Pass',\n",
    "       '1st Down Penalty', 'Time Of Possession', 'Penalty', 'Penalty Yard',\n",
    "       'Third Down Att', 'Third Down Conv', 'Fourth Down Att',\n",
    "       'Fourth Down Conv', 'Red Zone Att', 'Red Zone TD',\n",
    "       'Red Zone Field Goal', 'W/L']\n",
    "\n",
    "finalDF = filtered[keep]\n"
   ]
  },
  {
   "cell_type": "code",
   "execution_count": 13,
   "metadata": {
    "collapsed": true
   },
   "outputs": [],
   "source": [
    "from pyspark import SparkContext\n",
    "from pyspark.sql import SparkSession\n",
    "spark = SparkSession.builder.appName('fp').getOrCreate()\n"
   ]
  },
  {
   "cell_type": "code",
   "execution_count": 14,
   "metadata": {
    "collapsed": true
   },
   "outputs": [],
   "source": [
    "'''The next lines are a very straight forward learning and classification task'''\n",
    "df_labels = spark.createDataFrame(finalDF)"
   ]
  },
  {
   "cell_type": "code",
   "execution_count": 15,
   "metadata": {
    "collapsed": true
   },
   "outputs": [],
   "source": [
    "win_assembler = VectorAssembler (inputCols = keep[:-1], outputCol = 'features')"
   ]
  },
  {
   "cell_type": "code",
   "execution_count": 16,
   "metadata": {
    "collapsed": true
   },
   "outputs": [],
   "source": [
    "splits = df_labels.randomSplit([0.6, 0.4], 1234)\n",
    "win_train = splits[0]\n",
    "win_test = splits[1]"
   ]
  },
  {
   "cell_type": "code",
   "execution_count": 17,
   "metadata": {
    "collapsed": true
   },
   "outputs": [],
   "source": [
    "win_rf = RandomForestClassifier(featuresCol='features', labelCol='W/L', numTrees=100)"
   ]
  },
  {
   "cell_type": "code",
   "execution_count": 18,
   "metadata": {
    "collapsed": true
   },
   "outputs": [],
   "source": [
    "win_pipeline = Pipeline(stages=[win_assembler, win_rf])"
   ]
  },
  {
   "cell_type": "code",
   "execution_count": 19,
   "metadata": {
    "collapsed": true
   },
   "outputs": [],
   "source": [
    "win_model = win_pipeline.fit(win_train)"
   ]
  },
  {
   "cell_type": "code",
   "execution_count": 20,
   "metadata": {
    "collapsed": true
   },
   "outputs": [],
   "source": [
    "win_predictions = win_model.transform(win_test)"
   ]
  },
  {
   "cell_type": "code",
   "execution_count": 21,
   "metadata": {},
   "outputs": [
    {
     "name": "stdout",
     "output_type": "stream",
     "text": [
      "Test set accuracy = 0.8777372262773723\n"
     ]
    },
    {
     "data": {
      "text/plain": [
       "'We see on a standard .6/.4 split, the classifier correctly labels more than 87% of games'"
      ]
     },
     "execution_count": 21,
     "metadata": {},
     "output_type": "execute_result"
    }
   ],
   "source": [
    "evaluator = MulticlassClassificationEvaluator(labelCol=\"W/L\", predictionCol=\"prediction\",\n",
    "                                              metricName=\"accuracy\")\n",
    "accuracy = evaluator.evaluate(win_predictions)\n",
    "print(\"Test set accuracy = \" + str(accuracy))\n",
    "\n",
    "'''We see on a standard .6/.4 split, the classifier correctly labels more than 87% of games'''"
   ]
  },
  {
   "cell_type": "code",
   "execution_count": 22,
   "metadata": {
    "collapsed": true
   },
   "outputs": [],
   "source": [
    "'''Like with cluster sizes, I wanted to know the point in which we see diminishing returns on how we improve accuracy with \n",
    "and increase in training data. In order to do that, I set up a system that changes the proportion of training data and then \n",
    "logs the accuracy along with the proportion of training data. Here I defined a function that will change the proprtion by \n",
    "increasing the proportion of train data by a tenth\n",
    "'''\n",
    "def run_ml(df_labels):\n",
    "    col= ['train_precent','accuracy']\n",
    "    ml_list = []\n",
    "    for i in range (10)[1:]:\n",
    "        print('On step {} out of 10'.format(i))\n",
    "        x = (i/10)\n",
    "        y = round(1-x,2)\n",
    "        splits = df_labels.randomSplit([x, y], 1234)\n",
    "        win_train = splits[0]\n",
    "        win_test = splits[1]\n",
    "        win_rf = RandomForestClassifier(featuresCol='features', labelCol='W/L', numTrees=10)\n",
    "        win_pipeline = Pipeline(stages=[win_assembler, win_rf])\n",
    "        win_model = win_pipeline.fit(win_train)\n",
    "        win_predictions = win_model.transform(win_test)\n",
    "        evaluator = MulticlassClassificationEvaluator(labelCol=\"W/L\", predictionCol=\"prediction\",\n",
    "                                                  metricName=\"accuracy\")\n",
    "        accuracy = evaluator.evaluate(win_predictions)\n",
    "        ml_list.append([x,accuracy])\n",
    "    ml_progress = pd.DataFrame(ml_list,columns = col) \n",
    "    return ml_progress "
   ]
  },
  {
   "cell_type": "code",
   "execution_count": 23,
   "metadata": {
    "collapsed": true
   },
   "outputs": [],
   "source": [
    "'''For my own purposes, though, I ran the function by changing the proportions by a hundreth, and saves the data to a csv file\n",
    "which is included. If something happens, and the file cannot be read, we will retrain the model 9 times with the previously\n",
    "defined function, simply to save on time, as the hundreth increase in training data took almost an hour in total to run\n",
    "'''\n",
    "try:\n",
    "    ml_progress = pd.read_csv('ml_progress.csv')\n",
    "    if len(ml_progress) < 1:\n",
    "        ml_progress = run_ml(df_labels)\n",
    "except:\n",
    "    ml_progress = run_ml(df_labels)\n"
   ]
  },
  {
   "cell_type": "code",
   "execution_count": 24,
   "metadata": {},
   "outputs": [
    {
     "data": {
      "text/plain": [
       "(array([ 0,  1,  2,  3,  4,  5,  6,  7,  8,  9, 10, 11, 12, 13, 14, 15, 16,\n",
       "        17, 18, 19, 20, 21, 22, 23, 24, 25, 26, 27, 28, 29, 30, 31, 32, 33,\n",
       "        34, 35, 36, 37, 38, 39, 40, 41, 42, 43, 44, 45, 46, 47, 48]),\n",
       " <a list of 49 Text xticklabel objects>)"
      ]
     },
     "execution_count": 24,
     "metadata": {},
     "output_type": "execute_result"
    },
    {
     "data": {
      "image/png": "[encoded data removed]",
      "text/plain": [
       "<matplotlib.figure.Figure at 0x1b9996b5128>"
      ]
     },
     "metadata": {},
     "output_type": "display_data"
    }
   ],
   "source": [
    "'''Here is the graph on the increase in classification accuracy with an increase in training data. I called the proportion as \n",
    "\"diminishing\" as soon as there was a generally flat point without still a clear indication of improvement immediately ahead. \n",
    "For me, this appears to be at about 0.6, but of course this is subjective. This shows that I should use the 0.6/0.4 split, \n",
    "which doesn't change the way in which I train and test, but at least gives me insight into why I am using these numbers, as \n",
    "opposed to using 0.6/0.4 just because that is convention\n",
    "'''\n",
    "%matplotlib inline\n",
    "sns.set_style(\"darkgrid\")\n",
    "ax = sns.pointplot(y=\"accuracy\", x=\"train_precent\", data= ml_progress)\n",
    "plt.xticks(rotation = 90)\n"
   ]
  },
  {
   "cell_type": "code",
   "execution_count": 25,
   "metadata": {
    "collapsed": true
   },
   "outputs": [],
   "source": [
    "'''Writing the csv file, so we don't have to if we restart the cells, and can maintain the data that we generated'''\n",
    "ml_progress.to_csv('ml_progress.csv', sep=',')"
   ]
  },
  {
   "cell_type": "code",
   "execution_count": 26,
   "metadata": {
    "collapsed": true
   },
   "outputs": [],
   "source": [
    "'''Now that the model is trained, and we have our feature weights, I wanted to see if the phrase \"Defense Wins Championships\"\n",
    "truly holds. In order to do this, I grouped the features into four groups: offense, defense, kicks, and penalties, while\n",
    "also having a pandas data frame of the features and their respective weights\n",
    "'''\n",
    "featureImportances = pd.DataFrame({\"index\":df_labels.columns[:-1],\"featureImportances\":win_model.stages[1].featureImportances})\n",
    "    \n",
    "kicks= ['Kickoff Yard','Kickoff Ret','Kickoff','Field Goal Made','Off XP Kick Made','Off XP Kick Att','Field Goal Made',\n",
    "        'Field Goal Att','Punt Ret Yard','Kickoff Onside','Kickoff Out-Of-Bounds','Red Zone Field Goal','Punt Yard',\n",
    "       'Kickoff Touchback']\n",
    "offense = ['Rush Yard','Rush Att','Pass Att','Points','1st Down Rush','Kickoff Ret Yard',\n",
    "           'Red Zone TD','Time Of Possession','Pass Yard','Red Zone Att','Fourth Down Att','Pass Comp','Fumble',\n",
    "          'Third Down Att','Fourth Down Conv','Third Down Conv','Pass Conv','Off 2XP Att','Punt Ret TD','Kickoff Ret TD',\n",
    "          '1st Down Pass','Fumble Lost','Misc Ret TD','Misc Ret Yard','Rush TD','Pass TD','Punt Ret','Off 2XP Made','Misc Ret']\n",
    "defense = ['Sack Yard','Int Ret Yard','Punt','Tackle For Loss Yard','Pass Broken Up','Fum Ret Yard','QB Hurry','Int Ret',\n",
    "           'Fum Ret','Safety','Def 2XP Made','Kick/Punt Blocked','Fumble Forced','Pass Int','Sack','Tackle For Loss',\n",
    "           'Tackle Assist','Tackle Solo','Fum Ret TD','Int Ret TD','Def 2XP Att']\n",
    "penalty = ['1st Down Penalty','Penalty','Penalty Yard']\n"
   ]
  },
  {
   "cell_type": "code",
   "execution_count": 27,
   "metadata": {},
   "outputs": [
    {
     "data": {
      "text/html": [
       "<div>\n",
       "<style>\n",
       "    .dataframe thead tr:only-child th {\n",
       "        text-align: right;\n",
       "    }\n",
       "\n",
       "    .dataframe thead th {\n",
       "        text-align: left;\n",
       "    }\n",
       "\n",
       "    .dataframe tbody tr th {\n",
       "        vertical-align: top;\n",
       "    }\n",
       "</style>\n",
       "<table border=\"1\" class=\"dataframe\">\n",
       "  <thead>\n",
       "    <tr style=\"text-align: right;\">\n",
       "      <th></th>\n",
       "      <th>featureImportances</th>\n",
       "    </tr>\n",
       "    <tr>\n",
       "      <th>category</th>\n",
       "      <th></th>\n",
       "    </tr>\n",
       "  </thead>\n",
       "  <tbody>\n",
       "    <tr>\n",
       "      <th>defense</th>\n",
       "      <td>0.124719</td>\n",
       "    </tr>\n",
       "    <tr>\n",
       "      <th>kicks</th>\n",
       "      <td>0.462806</td>\n",
       "    </tr>\n",
       "    <tr>\n",
       "      <th>offense</th>\n",
       "      <td>0.403173</td>\n",
       "    </tr>\n",
       "    <tr>\n",
       "      <th>penalty</th>\n",
       "      <td>0.009302</td>\n",
       "    </tr>\n",
       "  </tbody>\n",
       "</table>\n",
       "</div>"
      ],
      "text/plain": [
       "          featureImportances\n",
       "category                    \n",
       "defense             0.124719\n",
       "kicks               0.462806\n",
       "offense             0.403173\n",
       "penalty             0.009302"
      ]
     },
     "execution_count": 27,
     "metadata": {},
     "output_type": "execute_result"
    }
   ],
   "source": [
    "def find_category(index):\n",
    "    if index in offense:\n",
    "        return 'offense'\n",
    "    if index in kicks:\n",
    "        return 'kicks'\n",
    "    if index in defense:\n",
    "        return 'defense'\n",
    "    if index in penalty:\n",
    "        return 'penalty'\n",
    "    \n",
    "'''I added a column to the featureImportance table, where the value is the category in which the feature resides\n",
    "as defined by the previously lists. We can then group all the features into their appropriate group, and sum the \n",
    "weights together'''\n",
    "featureImportances['category'] = featureImportances.apply(lambda row : find_category(row['index']), axis = 1)\n",
    "groups = featureImportances.groupby('category').agg('sum')\n",
    "groups"
   ]
  },
  {
   "cell_type": "code",
   "execution_count": 28,
   "metadata": {
    "collapsed": true
   },
   "outputs": [],
   "source": [
    "labels = 'defense','kicks','offense', 'penalty'\n",
    "sizes = [215, 130, 245, 210]\n",
    "colors = ['grey', 'lightblue', 'darkorange', 'green']"
   ]
  },
  {
   "cell_type": "code",
   "execution_count": 29,
   "metadata": {},
   "outputs": [
    {
     "data": {
      "image/png": "[encoded data removed]",
      "text/plain": [
       "<matplotlib.figure.Figure at 0x1b99a782c50>"
      ]
     },
     "metadata": {},
     "output_type": "display_data"
    }
   ],
   "source": [
    "plt.pie(groups, labels=labels, colors=colors,\n",
    "        autopct='%1.1f%%', shadow=True, startangle=140)\n",
    "plt.axis('equal')\n",
    "plt.show()"
   ]
  },
  {
   "cell_type": "code",
   "execution_count": 30,
   "metadata": {},
   "outputs": [
    {
     "data": {
      "text/html": [
       "<div>\n",
       "<style>\n",
       "    .dataframe thead tr:only-child th {\n",
       "        text-align: right;\n",
       "    }\n",
       "\n",
       "    .dataframe thead th {\n",
       "        text-align: left;\n",
       "    }\n",
       "\n",
       "    .dataframe tbody tr th {\n",
       "        vertical-align: top;\n",
       "    }\n",
       "</style>\n",
       "<table border=\"1\" class=\"dataframe\">\n",
       "  <thead>\n",
       "    <tr style=\"text-align: right;\">\n",
       "      <th></th>\n",
       "      <th>featureImportances</th>\n",
       "    </tr>\n",
       "    <tr>\n",
       "      <th>category</th>\n",
       "      <th></th>\n",
       "    </tr>\n",
       "  </thead>\n",
       "  <tbody>\n",
       "    <tr>\n",
       "      <th>defense</th>\n",
       "      <td>0.124719</td>\n",
       "    </tr>\n",
       "    <tr>\n",
       "      <th>kicks</th>\n",
       "      <td>0.462806</td>\n",
       "    </tr>\n",
       "    <tr>\n",
       "      <th>offense</th>\n",
       "      <td>0.403173</td>\n",
       "    </tr>\n",
       "    <tr>\n",
       "      <th>penalty</th>\n",
       "      <td>0.009302</td>\n",
       "    </tr>\n",
       "  </tbody>\n",
       "</table>\n",
       "</div>"
      ],
      "text/plain": [
       "          featureImportances\n",
       "category                    \n",
       "defense             0.124719\n",
       "kicks               0.462806\n",
       "offense             0.403173\n",
       "penalty             0.009302"
      ]
     },
     "execution_count": 30,
     "metadata": {},
     "output_type": "execute_result"
    }
   ],
   "source": [
    "groups"
   ]
  },
  {
   "cell_type": "code",
   "execution_count": 31,
   "metadata": {},
   "outputs": [
    {
     "name": "stdout",
     "output_type": "stream",
     "text": [
      "Test set accuracy = 0.8631386861313869\n"
     ]
    }
   ],
   "source": [
    "'''During one test, I found the feature Kickoff Yard to be extremely over-representative in feature weight. Therefore, \n",
    "I decided to retrain the model without it, and to see how well the model performs and then see the weights of the groups\n",
    "without Kickoff Yard being use as a feature\n",
    "'''\n",
    "\n",
    "keep_without_ky = [col for col in keep if col != 'Kickoff Yard']\n",
    "\n",
    "finalDF = filtered[keep_without_ky]\n",
    "df_labels = spark.createDataFrame(finalDF)\n",
    "win_assembler = VectorAssembler (inputCols = keep_without_ky[:-1], outputCol = 'features')\n",
    "splits = df_labels.randomSplit([0.6, 0.4], 1234)\n",
    "win_train = splits[0]\n",
    "win_test = splits[1]\n",
    "win_rf = RandomForestClassifier(featuresCol='features', labelCol='W/L', numTrees=10)\n",
    "win_pipeline = Pipeline(stages=[win_assembler, win_rf])\n",
    "win_model = win_pipeline.fit(win_train)\n",
    "win_predictions = win_model.transform(win_test)\n",
    "evaluator = MulticlassClassificationEvaluator(labelCol=\"W/L\", predictionCol=\"prediction\",\n",
    "                                              metricName=\"accuracy\")\n",
    "accuracy = evaluator.evaluate(win_predictions)\n",
    "print(\"Test set accuracy = \" + str(accuracy))"
   ]
  },
  {
   "cell_type": "code",
   "execution_count": 32,
   "metadata": {
    "collapsed": true
   },
   "outputs": [],
   "source": [
    "featureImportances = pd.DataFrame({\"index\":keep_without_ky[:-1],\"featureImportances\":win_model.stages[1].featureImportances})   \n"
   ]
  },
  {
   "cell_type": "code",
   "execution_count": 38,
   "metadata": {
    "collapsed": true
   },
   "outputs": [],
   "source": [
    "#kicks = [col for col in kicks if col != 'Kickoff Yard']\n",
    "featureImportances['category'] = featureImportances.apply(lambda row : find_category(row['index']), axis = 1)\n",
    "groups = featureImportances.groupby('category').agg('sum')"
   ]
  },
  {
   "cell_type": "code",
   "execution_count": 34,
   "metadata": {
    "collapsed": true
   },
   "outputs": [],
   "source": [
    "labels = 'defense','kicks','offense', 'penalty'\n",
    "sizes = [215, 130, 245, 210]\n",
    "colors = ['grey', 'lightblue', 'darkorange', 'green']"
   ]
  },
  {
   "cell_type": "code",
   "execution_count": 35,
   "metadata": {},
   "outputs": [
    {
     "data": {
      "image/png": "[encoded data removed]",
      "text/plain": [
       "<matplotlib.figure.Figure at 0x1b99a954dd8>"
      ]
     },
     "metadata": {},
     "output_type": "display_data"
    }
   ],
   "source": [
    "plt.pie(groups, labels=labels, colors=colors,\n",
    "        autopct='%1.1f%%', shadow=True, startangle=140)\n",
    "plt.axis('equal')\n",
    "plt.show()"
   ]
  },
  {
   "cell_type": "code",
   "execution_count": 36,
   "metadata": {},
   "outputs": [
    {
     "data": {
      "text/html": [
       "<div>\n",
       "<style>\n",
       "    .dataframe thead tr:only-child th {\n",
       "        text-align: right;\n",
       "    }\n",
       "\n",
       "    .dataframe thead th {\n",
       "        text-align: left;\n",
       "    }\n",
       "\n",
       "    .dataframe tbody tr th {\n",
       "        vertical-align: top;\n",
       "    }\n",
       "</style>\n",
       "<table border=\"1\" class=\"dataframe\">\n",
       "  <thead>\n",
       "    <tr style=\"text-align: right;\">\n",
       "      <th></th>\n",
       "      <th>featureImportances</th>\n",
       "      <th>index</th>\n",
       "      <th>category</th>\n",
       "    </tr>\n",
       "  </thead>\n",
       "  <tbody>\n",
       "    <tr>\n",
       "      <th>36</th>\n",
       "      <td>0.158085</td>\n",
       "      <td>Kickoff</td>\n",
       "      <td>kicks</td>\n",
       "    </tr>\n",
       "    <tr>\n",
       "      <th>33</th>\n",
       "      <td>0.142567</td>\n",
       "      <td>Points</td>\n",
       "      <td>offense</td>\n",
       "    </tr>\n",
       "    <tr>\n",
       "      <th>26</th>\n",
       "      <td>0.097925</td>\n",
       "      <td>Off XP Kick Att</td>\n",
       "      <td>kicks</td>\n",
       "    </tr>\n",
       "    <tr>\n",
       "      <th>45</th>\n",
       "      <td>0.056536</td>\n",
       "      <td>Tackle For Loss Yard</td>\n",
       "      <td>defense</td>\n",
       "    </tr>\n",
       "    <tr>\n",
       "      <th>27</th>\n",
       "      <td>0.056359</td>\n",
       "      <td>Off XP Kick Made</td>\n",
       "      <td>kicks</td>\n",
       "    </tr>\n",
       "  </tbody>\n",
       "</table>\n",
       "</div>"
      ],
      "text/plain": [
       "    featureImportances                 index category\n",
       "36            0.158085               Kickoff    kicks\n",
       "33            0.142567                Points  offense\n",
       "26            0.097925       Off XP Kick Att    kicks\n",
       "45            0.056536  Tackle For Loss Yard  defense\n",
       "27            0.056359      Off XP Kick Made    kicks"
      ]
     },
     "execution_count": 36,
     "metadata": {},
     "output_type": "execute_result"
    }
   ],
   "source": [
    "sorted_features = featureImportances.sort_values('featureImportances',ascending = False)\n",
    "sorted_features.head()"
   ]
  },
  {
   "cell_type": "code",
   "execution_count": 37,
   "metadata": {},
   "outputs": [
    {
     "data": {
      "text/html": [
       "<div>\n",
       "<style>\n",
       "    .dataframe thead tr:only-child th {\n",
       "        text-align: right;\n",
       "    }\n",
       "\n",
       "    .dataframe thead th {\n",
       "        text-align: left;\n",
       "    }\n",
       "\n",
       "    .dataframe tbody tr th {\n",
       "        vertical-align: top;\n",
       "    }\n",
       "</style>\n",
       "<table border=\"1\" class=\"dataframe\">\n",
       "  <thead>\n",
       "    <tr style=\"text-align: right;\">\n",
       "      <th></th>\n",
       "      <th>featureImportances</th>\n",
       "    </tr>\n",
       "    <tr>\n",
       "      <th>category</th>\n",
       "      <th></th>\n",
       "    </tr>\n",
       "  </thead>\n",
       "  <tbody>\n",
       "    <tr>\n",
       "      <th>defense</th>\n",
       "      <td>0.189184</td>\n",
       "    </tr>\n",
       "    <tr>\n",
       "      <th>kicks</th>\n",
       "      <td>0.379294</td>\n",
       "    </tr>\n",
       "    <tr>\n",
       "      <th>offense</th>\n",
       "      <td>0.416067</td>\n",
       "    </tr>\n",
       "    <tr>\n",
       "      <th>penalty</th>\n",
       "      <td>0.015455</td>\n",
       "    </tr>\n",
       "  </tbody>\n",
       "</table>\n",
       "</div>"
      ],
      "text/plain": [
       "          featureImportances\n",
       "category                    \n",
       "defense             0.189184\n",
       "kicks               0.379294\n",
       "offense             0.416067\n",
       "penalty             0.015455"
      ]
     },
     "execution_count": 37,
     "metadata": {},
     "output_type": "execute_result"
    }
   ],
   "source": [
    "groups"
   ]
  },
  {
   "cell_type": "code",
   "execution_count": 1,
   "metadata": {},
   "outputs": [
    {
     "ename": "IndentationError",
     "evalue": "unexpected indent (<ipython-input-1-2083ae715481>, line 2)",
     "output_type": "error",
     "traceback": [
      "\u001b[1;36m  File \u001b[1;32m\"<ipython-input-1-2083ae715481>\"\u001b[1;36m, line \u001b[1;32m2\u001b[0m\n\u001b[1;33m    col= ['trees','accuracy']\u001b[0m\n\u001b[1;37m    ^\u001b[0m\n\u001b[1;31mIndentationError\u001b[0m\u001b[1;31m:\u001b[0m unexpected indent\n"
     ]
    }
   ],
   "source": [
    "def changing_trees(df_labels):\n",
    "    col= ['trees','accuracy']\n",
    "    ml_list = []\n",
    "    for i in range (71):\n",
    "        print('On step {} out of 10'.format(i))\n",
    "        splits = df_labels.randomSplit([.6, .4], 1234)\n",
    "        win_train = splits[0]\n",
    "        win_test = splits[1]\n",
    "        win_rf = RandomForestClassifier(featuresCol='features', labelCol='W/L', numTrees=30 + i)\n",
    "        win_pipeline = Pipeline(stages=[win_assembler, win_rf])\n",
    "        win_model = win_pipeline.fit(win_train)\n",
    "        win_predictions = win_model.transform(win_test)\n",
    "        evaluator = MulticlassClassificationEvaluator(labelCol=\"W/L\", predictionCol=\"prediction\",\n",
    "                                                  metricName=\"accuracy\")\n",
    "        accuracy = evaluator.evaluate(win_predictions)\n",
    "        ml_list.append([30+i,accuracy])\n",
    "    ml_progress = pd.DataFrame(ml_list,columns = col) \n",
    "    return ml_progress \n",
    "\n",
    "trees = changing_trees(df_labels)\n"
   ]
  },
  {
   "cell_type": "code",
   "execution_count": 54,
   "metadata": {},
   "outputs": [
    {
     "data": {
      "text/plain": [
       "(array([ 0,  1,  2,  3,  4,  5,  6,  7,  8,  9, 10, 11, 12, 13, 14, 15, 16,\n",
       "        17, 18, 19, 20, 21, 22, 23, 24, 25, 26, 27, 28, 29, 30, 31, 32, 33,\n",
       "        34, 35, 36, 37, 38, 39, 40, 41, 42, 43, 44, 45, 46, 47, 48, 49, 50,\n",
       "        51, 52, 53, 54, 55, 56, 57, 58, 59, 60, 61, 62, 63, 64, 65, 66, 67,\n",
       "        68, 69, 70]), <a list of 71 Text xticklabel objects>)"
      ]
     },
     "execution_count": 54,
     "metadata": {},
     "output_type": "execute_result"
    },
    {
     "data": {
      "image/png": "[encoded data removed]",
      "text/plain": [
       "<matplotlib.figure.Figure at 0x1b999154828>"
      ]
     },
     "metadata": {},
     "output_type": "display_data"
    }
   ],
   "source": [
    "%matplotlib inline\n",
    "sns.set_style(\"darkgrid\")\n",
    "ax = sns.pointplot(y=\"accuracy\", x=\"trees\", data= trees)\n",
    "plt.xticks(rotation = 90)\n"
   ]
  },
  {
   "cell_type": "code",
   "execution_count": null,
   "metadata": {
    "collapsed": true
   },
   "outputs": [],
   "source": []
  }
 ],
 "metadata": {
  "kernelspec": {
   "display_name": "Python 3",
   "language": "python",
   "name": "python3"
  },
  "language_info": {
   "codemirror_mode": {
    "name": "ipython",
    "version": 3
   },
   "file_extension": ".py",
   "mimetype": "text/x-python",
   "name": "python",
   "nbconvert_exporter": "python",
   "pygments_lexer": "ipython3",
   "version": "3.6.3"
  }
 },
 "nbformat": 4,
 "nbformat_minor": 2
}
